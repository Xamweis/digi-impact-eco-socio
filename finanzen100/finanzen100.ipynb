{
 "cells": [
  {
   "cell_type": "code",
   "execution_count": 2,
   "metadata": {},
   "outputs": [],
   "source": [
    "from bs4 import BeautifulSoup\n",
    "import requests\n",
    "import pandas as pd\n",
    "\n",
    "stocks = requests.get('https://traderfox.de/aktien/deutschland-alle-bestandteile').content\n",
    "soup = BeautifulSoup(stocks, \"html.parser\")\n",
    "ahrefs = soup.select('#insert-stocks > tbody > tr > td.name > a')\n",
    "links = [href.get('href') for href in ahrefs]\n",
    "len(links)"
   ]
  },
  {
   "cell_type": "code",
   "execution_count": 3,
   "metadata": {},
   "outputs": [
    {
     "name": "stdout",
     "output_type": "stream",
     "text": [
      "Site 100 done ... spleeping for 0.867 ms\n",
      "Site 101 done ... spleeping for 0.599 ms\n",
      "Site 102 done ... spleeping for 1.243 ms\n",
      "Site 103 done ... spleeping for 0.948 ms\n",
      "Site 104 done ... spleeping for 0.887 ms\n",
      "Site 105 done ... spleeping for 1.093 ms\n",
      "Site 106 done ... spleeping for 1.097 ms\n",
      "Site 107 done ... spleeping for 1.383 ms\n",
      "Site 108 done ... spleeping for 1.344 ms\n",
      "Site 109 done ... spleeping for 0.682 ms\n",
      "Site 110 done ... spleeping for 0.365 ms\n",
      "Site 111 done ... spleeping for 0.545 ms\n",
      "Site 112 done ... spleeping for 0.515 ms\n",
      "Site 113 done ... spleeping for 1.307 ms\n",
      "Site 114 done ... spleeping for 1.138 ms\n",
      "Site 115 done ... spleeping for 0.328 ms\n",
      "Site 116 done ... spleeping for 1.398 ms\n",
      "Site 117 done ... spleeping for 1.387 ms\n",
      "Site 118 done ... spleeping for 1.004 ms\n",
      "Site 119 done ... spleeping for 0.929 ms\n",
      "Site 120 done ... spleeping for 1.292 ms\n",
      "Site 121 done ... spleeping for 1.389 ms\n",
      "Site 122 done ... spleeping for 0.579 ms\n",
      "Site 123 done ... spleeping for 1.141 ms\n",
      "Site 124 done ... spleeping for 0.755 ms\n",
      "Site 125 done ... spleeping for 1.332 ms\n",
      "Site 126 done ... spleeping for 1.11 ms\n",
      "Site 127 done ... spleeping for 0.435 ms\n",
      "Site 128 done ... spleeping for 1.399 ms\n",
      "Site 129 done ... spleeping for 0.632 ms\n",
      "Site 130 done ... spleeping for 1.301 ms\n",
      "Site 131 done ... spleeping for 0.857 ms\n",
      "Site 132 done ... spleeping for 0.78 ms\n",
      "Site 133 done ... spleeping for 0.918 ms\n",
      "Site 134 done ... spleeping for 0.814 ms\n",
      "Site 135 done ... spleeping for 1.148 ms\n",
      "Site 136 done ... spleeping for 0.963 ms\n",
      "Site 137 done ... spleeping for 0.507 ms\n",
      "Site 138 done ... spleeping for 0.354 ms\n",
      "Site 139 done ... spleeping for 1.318 ms\n",
      "Site 140 done ... spleeping for 0.58 ms\n",
      "Site 141 done ... spleeping for 1.287 ms\n",
      "Site 142 done ... spleeping for 0.916 ms\n",
      "Site 143 done ... spleeping for 0.343 ms\n",
      "Site 144 done ... spleeping for 1.057 ms\n",
      "Site 145 done ... spleeping for 1.129 ms\n",
      "Site 146 done ... spleeping for 0.74 ms\n",
      "Site 147 done ... spleeping for 1.112 ms\n",
      "Site 148 done ... spleeping for 1.31 ms\n",
      "Site 149 done ... spleeping for 1.046 ms\n",
      "Site 150 done ... spleeping for 0.631 ms\n",
      "Site 151 done ... spleeping for 0.951 ms\n",
      "Site 152 done ... spleeping for 0.622 ms\n",
      "Site 153 done ... spleeping for 1.196 ms\n",
      "Site 154 done ... spleeping for 0.759 ms\n",
      "Site 155 done ... spleeping for 0.908 ms\n",
      "Site 156 done ... spleeping for 1.35 ms\n",
      "Site 157 done ... spleeping for 1.312 ms\n",
      "Site 158 done ... spleeping for 0.551 ms\n",
      "Site 159 done ... spleeping for 0.351 ms\n",
      "Site 160 done ... spleeping for 1.256 ms\n",
      "Site 161 done ... spleeping for 0.579 ms\n",
      "Site 162 done ... spleeping for 1.376 ms\n",
      "Site 163 done ... spleeping for 1.391 ms\n",
      "Site 164 done ... spleeping for 0.974 ms\n",
      "Site 165 done ... spleeping for 0.663 ms\n",
      "Site 166 done ... spleeping for 1.272 ms\n",
      "Site 167 done ... spleeping for 0.711 ms\n",
      "Site 168 done ... spleeping for 1.258 ms\n",
      "Site 169 done ... spleeping for 0.42 ms\n",
      "Site 170 done ... spleeping for 0.448 ms\n",
      "Site 171 done ... spleeping for 0.537 ms\n",
      "Site 172 done ... spleeping for 0.563 ms\n",
      "Site 173 done ... spleeping for 1.102 ms\n",
      "Site 174 done ... spleeping for 1.388 ms\n",
      "Site 175 done ... spleeping for 1.177 ms\n",
      "Site 176 done ... spleeping for 0.986 ms\n",
      "Site 177 done ... spleeping for 0.677 ms\n",
      "Site 178 done ... spleeping for 0.654 ms\n",
      "Site 179 done ... spleeping for 0.457 ms\n",
      "Site 180 done ... spleeping for 1.005 ms\n",
      "Site 181 done ... spleeping for 1.333 ms\n",
      "Site 182 done ... spleeping for 0.598 ms\n",
      "Site 183 done ... spleeping for 0.535 ms\n",
      "Site 184 done ... spleeping for 1.18 ms\n",
      "Site 185 done ... spleeping for 0.661 ms\n",
      "Site 186 done ... spleeping for 0.367 ms\n",
      "Site 187 done ... spleeping for 0.353 ms\n",
      "Site 188 done ... spleeping for 0.55 ms\n",
      "Site 189 done ... spleeping for 1.343 ms\n",
      "Site 190 done ... spleeping for 0.889 ms\n",
      "Site 191 done ... spleeping for 0.404 ms\n",
      "Site 192 done ... spleeping for 0.943 ms\n",
      "Site 193 done ... spleeping for 1.255 ms\n",
      "Site 194 done ... spleeping for 0.675 ms\n",
      "Site 195 done ... spleeping for 0.899 ms\n",
      "Site 196 done ... spleeping for 0.817 ms\n",
      "Site 197 done ... spleeping for 0.409 ms\n",
      "Site 198 done ... spleeping for 0.424 ms\n",
      "Site 199 done ... spleeping for 0.756 ms\n"
     ]
    }
   ],
   "source": [
    "import random\n",
    "from time import sleep\n",
    "\n",
    "links = open('links2.txt', 'a')\n",
    "\n",
    "for i in range(100,200):\n",
    "    stocks = requests.get(f'https://www.finanzen100.de/aktien/suche/?p={i}').content\n",
    "    soup = BeautifulSoup(stocks, \"html.parser\")\n",
    "    ahrefs = soup.select('div.card__content > div.component-group > a.InstrumentSearchTeaser')\n",
    "    site_links = [href.get('href') for href in ahrefs]\n",
    "    [links.write(f\"{link.replace('/aktien/', '')}\\n\") for link in site_links]\n",
    "    respect = random.randint(300,1400)/1000\n",
    "    print('Site', i, 'done ... spleeping for', respect, 'ms')\n",
    "    sleep(respect)\n",
    "\n",
    "links.close()"
   ]
  },
  {
   "cell_type": "code",
   "execution_count": 4,
   "metadata": {},
   "outputs": [],
   "source": [
    "with open('links2.txt', 'r') as f:\n",
    "    comp_links = f.readlines()"
   ]
  },
  {
   "cell_type": "code",
   "execution_count": null,
   "metadata": {},
   "outputs": [],
   "source": []
  },
  {
   "cell_type": "code",
   "execution_count": 5,
   "metadata": {},
   "outputs": [
    {
     "data": {
      "text/plain": [
       "'allianz-slovenska-poistovna-as-wkn-120136_H481367056_8301381/\\n'"
      ]
     },
     "execution_count": 5,
     "metadata": {},
     "output_type": "execute_result"
    }
   ],
   "source": [
    "comp_links[0]"
   ]
  },
  {
   "cell_type": "code",
   "execution_count": 6,
   "metadata": {},
   "outputs": [],
   "source": [
    "from tqdm import tqdm"
   ]
  },
  {
   "cell_type": "code",
   "execution_count": 7,
   "metadata": {},
   "outputs": [
    {
     "name": "stderr",
     "output_type": "stream",
     "text": [
      " 38%|███▊      | 1890/4919 [52:51<1:24:42,  1.68s/it]\n"
     ]
    },
    {
     "ename": "KeyboardInterrupt",
     "evalue": "",
     "output_type": "error",
     "traceback": [
      "\u001b[0;31m---------------------------------------------------------------------------\u001b[0m",
      "\u001b[0;31mKeyboardInterrupt\u001b[0m                         Traceback (most recent call last)",
      "Cell \u001b[0;32mIn [7], line 6\u001b[0m\n\u001b[1;32m      4\u001b[0m company \u001b[39m=\u001b[39m {\u001b[39m'\u001b[39m\u001b[39mname\u001b[39m\u001b[39m'\u001b[39m: comp_link\u001b[39m.\u001b[39msplit(\u001b[39m'\u001b[39m\u001b[39m-wkn\u001b[39m\u001b[39m'\u001b[39m)[\u001b[39m0\u001b[39m]}\n\u001b[1;32m      5\u001b[0m link \u001b[39m=\u001b[39m comp_link\u001b[39m.\u001b[39msplit(\u001b[39m'\u001b[39m\u001b[39m\\n\u001b[39;00m\u001b[39m'\u001b[39m)[\u001b[39m0\u001b[39m]\n\u001b[0;32m----> 6\u001b[0m soup \u001b[39m=\u001b[39m BeautifulSoup(requests\u001b[39m.\u001b[39;49mget(\u001b[39mf\u001b[39;49m\u001b[39m'\u001b[39;49m\u001b[39mhttps://www.finanzen100.de/aktien/\u001b[39;49m\u001b[39m{\u001b[39;49;00mlink\u001b[39m}\u001b[39;49;00m\u001b[39m'\u001b[39;49m)\u001b[39m.\u001b[39mcontent, \u001b[39m\"\u001b[39m\u001b[39mhtml.parser\u001b[39m\u001b[39m\"\u001b[39m)\n\u001b[1;32m      7\u001b[0m \u001b[39mtry\u001b[39;00m:   \n\u001b[1;32m      8\u001b[0m     soup_summary \u001b[39m=\u001b[39m soup\u001b[39m.\u001b[39mselect(\u001b[39m'\u001b[39m\u001b[39mdiv.data-listing__content\u001b[39m\u001b[39m'\u001b[39m)[\u001b[39m0\u001b[39m]\n",
      "File \u001b[0;32m/usr/lib/python3/dist-packages/requests/api.py:76\u001b[0m, in \u001b[0;36mget\u001b[0;34m(url, params, **kwargs)\u001b[0m\n\u001b[1;32m     65\u001b[0m \u001b[39mr\u001b[39m\u001b[39m\"\"\"Sends a GET request.\u001b[39;00m\n\u001b[1;32m     66\u001b[0m \n\u001b[1;32m     67\u001b[0m \u001b[39m:param url: URL for the new :class:`Request` object.\u001b[39;00m\n\u001b[0;32m   (...)\u001b[0m\n\u001b[1;32m     72\u001b[0m \u001b[39m:rtype: requests.Response\u001b[39;00m\n\u001b[1;32m     73\u001b[0m \u001b[39m\"\"\"\u001b[39;00m\n\u001b[1;32m     75\u001b[0m kwargs\u001b[39m.\u001b[39msetdefault(\u001b[39m'\u001b[39m\u001b[39mallow_redirects\u001b[39m\u001b[39m'\u001b[39m, \u001b[39mTrue\u001b[39;00m)\n\u001b[0;32m---> 76\u001b[0m \u001b[39mreturn\u001b[39;00m request(\u001b[39m'\u001b[39;49m\u001b[39mget\u001b[39;49m\u001b[39m'\u001b[39;49m, url, params\u001b[39m=\u001b[39;49mparams, \u001b[39m*\u001b[39;49m\u001b[39m*\u001b[39;49mkwargs)\n",
      "File \u001b[0;32m/usr/lib/python3/dist-packages/requests/api.py:61\u001b[0m, in \u001b[0;36mrequest\u001b[0;34m(method, url, **kwargs)\u001b[0m\n\u001b[1;32m     57\u001b[0m \u001b[39m# By using the 'with' statement we are sure the session is closed, thus we\u001b[39;00m\n\u001b[1;32m     58\u001b[0m \u001b[39m# avoid leaving sockets open which can trigger a ResourceWarning in some\u001b[39;00m\n\u001b[1;32m     59\u001b[0m \u001b[39m# cases, and look like a memory leak in others.\u001b[39;00m\n\u001b[1;32m     60\u001b[0m \u001b[39mwith\u001b[39;00m sessions\u001b[39m.\u001b[39mSession() \u001b[39mas\u001b[39;00m session:\n\u001b[0;32m---> 61\u001b[0m     \u001b[39mreturn\u001b[39;00m session\u001b[39m.\u001b[39;49mrequest(method\u001b[39m=\u001b[39;49mmethod, url\u001b[39m=\u001b[39;49murl, \u001b[39m*\u001b[39;49m\u001b[39m*\u001b[39;49mkwargs)\n",
      "File \u001b[0;32m/usr/lib/python3/dist-packages/requests/sessions.py:542\u001b[0m, in \u001b[0;36mSession.request\u001b[0;34m(self, method, url, params, data, headers, cookies, files, auth, timeout, allow_redirects, proxies, hooks, stream, verify, cert, json)\u001b[0m\n\u001b[1;32m    537\u001b[0m send_kwargs \u001b[39m=\u001b[39m {\n\u001b[1;32m    538\u001b[0m     \u001b[39m'\u001b[39m\u001b[39mtimeout\u001b[39m\u001b[39m'\u001b[39m: timeout,\n\u001b[1;32m    539\u001b[0m     \u001b[39m'\u001b[39m\u001b[39mallow_redirects\u001b[39m\u001b[39m'\u001b[39m: allow_redirects,\n\u001b[1;32m    540\u001b[0m }\n\u001b[1;32m    541\u001b[0m send_kwargs\u001b[39m.\u001b[39mupdate(settings)\n\u001b[0;32m--> 542\u001b[0m resp \u001b[39m=\u001b[39m \u001b[39mself\u001b[39;49m\u001b[39m.\u001b[39;49msend(prep, \u001b[39m*\u001b[39;49m\u001b[39m*\u001b[39;49msend_kwargs)\n\u001b[1;32m    544\u001b[0m \u001b[39mreturn\u001b[39;00m resp\n",
      "File \u001b[0;32m/usr/lib/python3/dist-packages/requests/sessions.py:655\u001b[0m, in \u001b[0;36mSession.send\u001b[0;34m(self, request, **kwargs)\u001b[0m\n\u001b[1;32m    652\u001b[0m start \u001b[39m=\u001b[39m preferred_clock()\n\u001b[1;32m    654\u001b[0m \u001b[39m# Send the request\u001b[39;00m\n\u001b[0;32m--> 655\u001b[0m r \u001b[39m=\u001b[39m adapter\u001b[39m.\u001b[39;49msend(request, \u001b[39m*\u001b[39;49m\u001b[39m*\u001b[39;49mkwargs)\n\u001b[1;32m    657\u001b[0m \u001b[39m# Total elapsed time of the request (approximately)\u001b[39;00m\n\u001b[1;32m    658\u001b[0m elapsed \u001b[39m=\u001b[39m preferred_clock() \u001b[39m-\u001b[39m start\n",
      "File \u001b[0;32m/usr/lib/python3/dist-packages/requests/adapters.py:439\u001b[0m, in \u001b[0;36mHTTPAdapter.send\u001b[0;34m(self, request, stream, timeout, verify, cert, proxies)\u001b[0m\n\u001b[1;32m    437\u001b[0m \u001b[39mtry\u001b[39;00m:\n\u001b[1;32m    438\u001b[0m     \u001b[39mif\u001b[39;00m \u001b[39mnot\u001b[39;00m chunked:\n\u001b[0;32m--> 439\u001b[0m         resp \u001b[39m=\u001b[39m conn\u001b[39m.\u001b[39;49murlopen(\n\u001b[1;32m    440\u001b[0m             method\u001b[39m=\u001b[39;49mrequest\u001b[39m.\u001b[39;49mmethod,\n\u001b[1;32m    441\u001b[0m             url\u001b[39m=\u001b[39;49murl,\n\u001b[1;32m    442\u001b[0m             body\u001b[39m=\u001b[39;49mrequest\u001b[39m.\u001b[39;49mbody,\n\u001b[1;32m    443\u001b[0m             headers\u001b[39m=\u001b[39;49mrequest\u001b[39m.\u001b[39;49mheaders,\n\u001b[1;32m    444\u001b[0m             redirect\u001b[39m=\u001b[39;49m\u001b[39mFalse\u001b[39;49;00m,\n\u001b[1;32m    445\u001b[0m             assert_same_host\u001b[39m=\u001b[39;49m\u001b[39mFalse\u001b[39;49;00m,\n\u001b[1;32m    446\u001b[0m             preload_content\u001b[39m=\u001b[39;49m\u001b[39mFalse\u001b[39;49;00m,\n\u001b[1;32m    447\u001b[0m             decode_content\u001b[39m=\u001b[39;49m\u001b[39mFalse\u001b[39;49;00m,\n\u001b[1;32m    448\u001b[0m             retries\u001b[39m=\u001b[39;49m\u001b[39mself\u001b[39;49m\u001b[39m.\u001b[39;49mmax_retries,\n\u001b[1;32m    449\u001b[0m             timeout\u001b[39m=\u001b[39;49mtimeout\n\u001b[1;32m    450\u001b[0m         )\n\u001b[1;32m    452\u001b[0m     \u001b[39m# Send the request.\u001b[39;00m\n\u001b[1;32m    453\u001b[0m     \u001b[39melse\u001b[39;00m:\n\u001b[1;32m    454\u001b[0m         \u001b[39mif\u001b[39;00m \u001b[39mhasattr\u001b[39m(conn, \u001b[39m'\u001b[39m\u001b[39mproxy_pool\u001b[39m\u001b[39m'\u001b[39m):\n",
      "File \u001b[0;32m/usr/lib/python3/dist-packages/urllib3/connectionpool.py:699\u001b[0m, in \u001b[0;36mHTTPConnectionPool.urlopen\u001b[0;34m(self, method, url, body, headers, retries, redirect, assert_same_host, timeout, pool_timeout, release_conn, chunked, body_pos, **response_kw)\u001b[0m\n\u001b[1;32m    696\u001b[0m     \u001b[39mself\u001b[39m\u001b[39m.\u001b[39m_prepare_proxy(conn)\n\u001b[1;32m    698\u001b[0m \u001b[39m# Make the request on the httplib connection object.\u001b[39;00m\n\u001b[0;32m--> 699\u001b[0m httplib_response \u001b[39m=\u001b[39m \u001b[39mself\u001b[39;49m\u001b[39m.\u001b[39;49m_make_request(\n\u001b[1;32m    700\u001b[0m     conn,\n\u001b[1;32m    701\u001b[0m     method,\n\u001b[1;32m    702\u001b[0m     url,\n\u001b[1;32m    703\u001b[0m     timeout\u001b[39m=\u001b[39;49mtimeout_obj,\n\u001b[1;32m    704\u001b[0m     body\u001b[39m=\u001b[39;49mbody,\n\u001b[1;32m    705\u001b[0m     headers\u001b[39m=\u001b[39;49mheaders,\n\u001b[1;32m    706\u001b[0m     chunked\u001b[39m=\u001b[39;49mchunked,\n\u001b[1;32m    707\u001b[0m )\n\u001b[1;32m    709\u001b[0m \u001b[39m# If we're going to release the connection in ``finally:``, then\u001b[39;00m\n\u001b[1;32m    710\u001b[0m \u001b[39m# the response doesn't need to know about the connection. Otherwise\u001b[39;00m\n\u001b[1;32m    711\u001b[0m \u001b[39m# it will also try to release it and we'll have a double-release\u001b[39;00m\n\u001b[1;32m    712\u001b[0m \u001b[39m# mess.\u001b[39;00m\n\u001b[1;32m    713\u001b[0m response_conn \u001b[39m=\u001b[39m conn \u001b[39mif\u001b[39;00m \u001b[39mnot\u001b[39;00m release_conn \u001b[39melse\u001b[39;00m \u001b[39mNone\u001b[39;00m\n",
      "File \u001b[0;32m/usr/lib/python3/dist-packages/urllib3/connectionpool.py:445\u001b[0m, in \u001b[0;36mHTTPConnectionPool._make_request\u001b[0;34m(self, conn, method, url, timeout, chunked, **httplib_request_kw)\u001b[0m\n\u001b[1;32m    440\u001b[0m             httplib_response \u001b[39m=\u001b[39m conn\u001b[39m.\u001b[39mgetresponse()\n\u001b[1;32m    441\u001b[0m         \u001b[39mexcept\u001b[39;00m \u001b[39mBaseException\u001b[39;00m \u001b[39mas\u001b[39;00m e:\n\u001b[1;32m    442\u001b[0m             \u001b[39m# Remove the TypeError from the exception chain in\u001b[39;00m\n\u001b[1;32m    443\u001b[0m             \u001b[39m# Python 3 (including for exceptions like SystemExit).\u001b[39;00m\n\u001b[1;32m    444\u001b[0m             \u001b[39m# Otherwise it looks like a bug in the code.\u001b[39;00m\n\u001b[0;32m--> 445\u001b[0m             six\u001b[39m.\u001b[39;49mraise_from(e, \u001b[39mNone\u001b[39;49;00m)\n\u001b[1;32m    446\u001b[0m \u001b[39mexcept\u001b[39;00m (SocketTimeout, BaseSSLError, SocketError) \u001b[39mas\u001b[39;00m e:\n\u001b[1;32m    447\u001b[0m     \u001b[39mself\u001b[39m\u001b[39m.\u001b[39m_raise_timeout(err\u001b[39m=\u001b[39me, url\u001b[39m=\u001b[39murl, timeout_value\u001b[39m=\u001b[39mread_timeout)\n",
      "File \u001b[0;32m<string>:3\u001b[0m, in \u001b[0;36mraise_from\u001b[0;34m(value, from_value)\u001b[0m\n",
      "File \u001b[0;32m/usr/lib/python3/dist-packages/urllib3/connectionpool.py:440\u001b[0m, in \u001b[0;36mHTTPConnectionPool._make_request\u001b[0;34m(self, conn, method, url, timeout, chunked, **httplib_request_kw)\u001b[0m\n\u001b[1;32m    437\u001b[0m \u001b[39mexcept\u001b[39;00m \u001b[39mTypeError\u001b[39;00m:\n\u001b[1;32m    438\u001b[0m     \u001b[39m# Python 3\u001b[39;00m\n\u001b[1;32m    439\u001b[0m     \u001b[39mtry\u001b[39;00m:\n\u001b[0;32m--> 440\u001b[0m         httplib_response \u001b[39m=\u001b[39m conn\u001b[39m.\u001b[39;49mgetresponse()\n\u001b[1;32m    441\u001b[0m     \u001b[39mexcept\u001b[39;00m \u001b[39mBaseException\u001b[39;00m \u001b[39mas\u001b[39;00m e:\n\u001b[1;32m    442\u001b[0m         \u001b[39m# Remove the TypeError from the exception chain in\u001b[39;00m\n\u001b[1;32m    443\u001b[0m         \u001b[39m# Python 3 (including for exceptions like SystemExit).\u001b[39;00m\n\u001b[1;32m    444\u001b[0m         \u001b[39m# Otherwise it looks like a bug in the code.\u001b[39;00m\n\u001b[1;32m    445\u001b[0m         six\u001b[39m.\u001b[39mraise_from(e, \u001b[39mNone\u001b[39;00m)\n",
      "File \u001b[0;32m/usr/lib/python3.10/http/client.py:1374\u001b[0m, in \u001b[0;36mHTTPConnection.getresponse\u001b[0;34m(self)\u001b[0m\n\u001b[1;32m   1372\u001b[0m \u001b[39mtry\u001b[39;00m:\n\u001b[1;32m   1373\u001b[0m     \u001b[39mtry\u001b[39;00m:\n\u001b[0;32m-> 1374\u001b[0m         response\u001b[39m.\u001b[39;49mbegin()\n\u001b[1;32m   1375\u001b[0m     \u001b[39mexcept\u001b[39;00m \u001b[39mConnectionError\u001b[39;00m:\n\u001b[1;32m   1376\u001b[0m         \u001b[39mself\u001b[39m\u001b[39m.\u001b[39mclose()\n",
      "File \u001b[0;32m/usr/lib/python3.10/http/client.py:318\u001b[0m, in \u001b[0;36mHTTPResponse.begin\u001b[0;34m(self)\u001b[0m\n\u001b[1;32m    316\u001b[0m \u001b[39m# read until we get a non-100 response\u001b[39;00m\n\u001b[1;32m    317\u001b[0m \u001b[39mwhile\u001b[39;00m \u001b[39mTrue\u001b[39;00m:\n\u001b[0;32m--> 318\u001b[0m     version, status, reason \u001b[39m=\u001b[39m \u001b[39mself\u001b[39;49m\u001b[39m.\u001b[39;49m_read_status()\n\u001b[1;32m    319\u001b[0m     \u001b[39mif\u001b[39;00m status \u001b[39m!=\u001b[39m CONTINUE:\n\u001b[1;32m    320\u001b[0m         \u001b[39mbreak\u001b[39;00m\n",
      "File \u001b[0;32m/usr/lib/python3.10/http/client.py:279\u001b[0m, in \u001b[0;36mHTTPResponse._read_status\u001b[0;34m(self)\u001b[0m\n\u001b[1;32m    278\u001b[0m \u001b[39mdef\u001b[39;00m \u001b[39m_read_status\u001b[39m(\u001b[39mself\u001b[39m):\n\u001b[0;32m--> 279\u001b[0m     line \u001b[39m=\u001b[39m \u001b[39mstr\u001b[39m(\u001b[39mself\u001b[39;49m\u001b[39m.\u001b[39;49mfp\u001b[39m.\u001b[39;49mreadline(_MAXLINE \u001b[39m+\u001b[39;49m \u001b[39m1\u001b[39;49m), \u001b[39m\"\u001b[39m\u001b[39miso-8859-1\u001b[39m\u001b[39m\"\u001b[39m)\n\u001b[1;32m    280\u001b[0m     \u001b[39mif\u001b[39;00m \u001b[39mlen\u001b[39m(line) \u001b[39m>\u001b[39m _MAXLINE:\n\u001b[1;32m    281\u001b[0m         \u001b[39mraise\u001b[39;00m LineTooLong(\u001b[39m\"\u001b[39m\u001b[39mstatus line\u001b[39m\u001b[39m\"\u001b[39m)\n",
      "File \u001b[0;32m/usr/lib/python3.10/socket.py:705\u001b[0m, in \u001b[0;36mSocketIO.readinto\u001b[0;34m(self, b)\u001b[0m\n\u001b[1;32m    703\u001b[0m \u001b[39mwhile\u001b[39;00m \u001b[39mTrue\u001b[39;00m:\n\u001b[1;32m    704\u001b[0m     \u001b[39mtry\u001b[39;00m:\n\u001b[0;32m--> 705\u001b[0m         \u001b[39mreturn\u001b[39;00m \u001b[39mself\u001b[39;49m\u001b[39m.\u001b[39;49m_sock\u001b[39m.\u001b[39;49mrecv_into(b)\n\u001b[1;32m    706\u001b[0m     \u001b[39mexcept\u001b[39;00m timeout:\n\u001b[1;32m    707\u001b[0m         \u001b[39mself\u001b[39m\u001b[39m.\u001b[39m_timeout_occurred \u001b[39m=\u001b[39m \u001b[39mTrue\u001b[39;00m\n",
      "File \u001b[0;32m/usr/lib/python3.10/ssl.py:1274\u001b[0m, in \u001b[0;36mSSLSocket.recv_into\u001b[0;34m(self, buffer, nbytes, flags)\u001b[0m\n\u001b[1;32m   1270\u001b[0m     \u001b[39mif\u001b[39;00m flags \u001b[39m!=\u001b[39m \u001b[39m0\u001b[39m:\n\u001b[1;32m   1271\u001b[0m         \u001b[39mraise\u001b[39;00m \u001b[39mValueError\u001b[39;00m(\n\u001b[1;32m   1272\u001b[0m           \u001b[39m\"\u001b[39m\u001b[39mnon-zero flags not allowed in calls to recv_into() on \u001b[39m\u001b[39m%s\u001b[39;00m\u001b[39m\"\u001b[39m \u001b[39m%\u001b[39m\n\u001b[1;32m   1273\u001b[0m           \u001b[39mself\u001b[39m\u001b[39m.\u001b[39m\u001b[39m__class__\u001b[39m)\n\u001b[0;32m-> 1274\u001b[0m     \u001b[39mreturn\u001b[39;00m \u001b[39mself\u001b[39;49m\u001b[39m.\u001b[39;49mread(nbytes, buffer)\n\u001b[1;32m   1275\u001b[0m \u001b[39melse\u001b[39;00m:\n\u001b[1;32m   1276\u001b[0m     \u001b[39mreturn\u001b[39;00m \u001b[39msuper\u001b[39m()\u001b[39m.\u001b[39mrecv_into(buffer, nbytes, flags)\n",
      "File \u001b[0;32m/usr/lib/python3.10/ssl.py:1130\u001b[0m, in \u001b[0;36mSSLSocket.read\u001b[0;34m(self, len, buffer)\u001b[0m\n\u001b[1;32m   1128\u001b[0m \u001b[39mtry\u001b[39;00m:\n\u001b[1;32m   1129\u001b[0m     \u001b[39mif\u001b[39;00m buffer \u001b[39mis\u001b[39;00m \u001b[39mnot\u001b[39;00m \u001b[39mNone\u001b[39;00m:\n\u001b[0;32m-> 1130\u001b[0m         \u001b[39mreturn\u001b[39;00m \u001b[39mself\u001b[39;49m\u001b[39m.\u001b[39;49m_sslobj\u001b[39m.\u001b[39;49mread(\u001b[39mlen\u001b[39;49m, buffer)\n\u001b[1;32m   1131\u001b[0m     \u001b[39melse\u001b[39;00m:\n\u001b[1;32m   1132\u001b[0m         \u001b[39mreturn\u001b[39;00m \u001b[39mself\u001b[39m\u001b[39m.\u001b[39m_sslobj\u001b[39m.\u001b[39mread(\u001b[39mlen\u001b[39m)\n",
      "\u001b[0;31mKeyboardInterrupt\u001b[0m: "
     ]
    }
   ],
   "source": [
    "companies = []\n",
    "counter = 0\n",
    "for comp_link in tqdm(comp_links):\n",
    "    company = {'name': comp_link.split('-wkn')[0]}\n",
    "    link = comp_link.split('\\n')[0]\n",
    "    soup = BeautifulSoup(requests.get(f'https://www.finanzen100.de/aktien/{link}').content, \"html.parser\")\n",
    "    try:   \n",
    "        soup_summary = soup.select('div.data-listing__content')[0]\n",
    "        company['country'] = soup_summary.select('p')[4].get_text()\n",
    "        company['sector'] = soup_summary.select('p')[5].get_text()\n",
    "    except:\n",
    "        pass\n",
    "\n",
    "    try:\n",
    "        soup_perfomance = soup.select('div.card__content > div.fundamental-data')[0]\n",
    "        company['2019_kgv'] = soup_perfomance.select('tr:nth-child(2) > td.column-7')[0].get_text()\n",
    "        company['2020_kgv'] = soup_perfomance.select('tr:nth-child(2) > td.column-6')[0].get_text()\n",
    "        company['2021_kgv'] = soup_perfomance.select('tr:nth-child(2) > td.column-5')[0].get_text()\n",
    "        company['2022_kgv'] = soup_perfomance.select('tr:nth-child(2) > td.column-4')[0].get_text()\n",
    "        company['2019_peg'] = soup_perfomance.select('tr:nth-child(3) > td.column-7')[0].get_text()\n",
    "        company['2020_peg'] = soup_perfomance.select('tr:nth-child(3) > td.column-6')[0].get_text()\n",
    "        company['2021_peg'] = soup_perfomance.select('tr:nth-child(3) > td.column-5')[0].get_text()\n",
    "        company['2022_peg'] = soup_perfomance.select('tr:nth-child(3) > td.column-4')[0].get_text()\n",
    "    except:\n",
    "        pass\n",
    "\n",
    "    try:\n",
    "        soup_stats = soup.select('div.card__content > div.data-listing')[2].select('span.data-listing__value')\n",
    "        company['EBIT-perc'] = soup_stats[0].get_text()\n",
    "        company['ges_kap_rend'] = soup_stats[1].get_text()\n",
    "        company['eig_kap_rend'] = soup_stats[2].get_text()\n",
    "        company['umsatz'] = soup_stats[3].get_text()\n",
    "        company['ums_per_empl'] = soup_stats[5].get_text()\n",
    "    except:\n",
    "        pass\n",
    "        \n",
    "    companies.append(company)\n",
    "    # RESPECT!\n",
    "    sleep(random.randint(200,900)/1000)\n",
    "\n",
    "    if counter % 10 == 0:\n",
    "        pd.DataFrame(companies).to_csv('comps2.csv', index=False)\n",
    "    counter += 1\n"
   ]
  },
  {
   "cell_type": "code",
   "execution_count": 167,
   "metadata": {},
   "outputs": [
    {
     "data": {
      "text/plain": [
       "[<span class=\"data-listing__value\">30,23%</span>,\n",
       " <span class=\"data-listing__value\">29,12%</span>,\n",
       " <span class=\"data-listing__value\">196,96%</span>,\n",
       " <span class=\"data-listing__value\">394,3 Mrd.</span>,\n",
       " <span class=\"data-listing__value\">16,7 Mrd.</span>,\n",
       " <span class=\"data-listing__value\">2.207.515</span>,\n",
       " <span class=\"data-listing__value\">109,4 Mrd.</span>,\n",
       " <span class=\"data-listing__value\">99,8 Mrd.</span>]"
      ]
     },
     "execution_count": 167,
     "metadata": {},
     "output_type": "execute_result"
    }
   ],
   "source": [
    "BeautifulSoup(requests.get('https://www.finanzen100.de/aktien/apple-wkn-865985_H1526430491_86627/').content, \"html.parser\").select('div.card__content > div.data-listing')[2].select('span.data-listing__value')\n"
   ]
  }
 ],
 "metadata": {
  "kernelspec": {
   "display_name": "Python 3",
   "language": "python",
   "name": "python3"
  },
  "language_info": {
   "codemirror_mode": {
    "name": "ipython",
    "version": 3
   },
   "file_extension": ".py",
   "mimetype": "text/x-python",
   "name": "python",
   "nbconvert_exporter": "python",
   "pygments_lexer": "ipython3",
   "version": "3.10.6"
  },
  "orig_nbformat": 4,
  "vscode": {
   "interpreter": {
    "hash": "e7370f93d1d0cde622a1f8e1c04877d8463912d04d973331ad4851f04de6915a"
   }
  }
 },
 "nbformat": 4,
 "nbformat_minor": 2
}
