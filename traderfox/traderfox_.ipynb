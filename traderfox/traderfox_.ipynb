{
 "cells": [
  {
   "cell_type": "code",
   "execution_count": 1,
   "metadata": {},
   "outputs": [],
   "source": [
    "from bs4 import BeautifulSoup\n",
    "import requests\n",
    "import pandas as pd\n",
    "\n",
    "import random\n",
    "from time import sleep"
   ]
  },
  {
   "cell_type": "code",
   "execution_count": 2,
   "metadata": {},
   "outputs": [],
   "source": [
    "from tqdm import tqdm\n",
    "from itertools import product\n",
    "import numpy as np"
   ]
  },
  {
   "cell_type": "code",
   "execution_count": 4,
   "metadata": {},
   "outputs": [],
   "source": [
    "def clean_mio(x):\n",
    "    x = str(x).replace(',', '.')\n",
    "    for i, j in [('Tsd.',10**3), ('Mio.',10**6), ('Mrd.',10**9)]:\n",
    "        if i in x:\n",
    "            return float(x.replace(i, '').strip()) * j\n",
    "    return float(x)"
   ]
  },
  {
   "cell_type": "code",
   "execution_count": 5,
   "metadata": {},
   "outputs": [],
   "source": [
    "def get_fundamentals(html):\n",
    "\tt = pd.read_html(html)[0]\n",
    "\tt = t.drop(t.tail(1).index, axis=0)\n",
    "\tt = t.replace('-', np.nan)\n",
    "\tt['EPS'] = t['EPS'].astype(float) / 100\n",
    "\tt['KGV'] = t['KGV'].astype(float) / 100\n",
    "\tt['KUV'] = t['KUV'].astype(float) / 100\n",
    "\tt['Dividende'] = t['Dividende'].astype('string').str.replace(',', '.').str.replace('%', '').astype(float) / 100\n",
    "\tcols = t['Datum'].values\n",
    "\tfor col in ['Umsatz', 'EBIT', 'Gewinn']:\n",
    "\t\tt[col] = t[col].apply(clean_mio)\n",
    "\n",
    "\tt = t.T\n",
    "\tt = t.drop(['Datum'], axis=0).sort_index()\n",
    "\tcols = list(product(cols, t.index))\n",
    "\tcols.sort(key=lambda x: x[1])\n",
    "\tcols = ['_'.join([a.split(' ')[0],b]) for a, b in cols]\n",
    "\n",
    "\tdf = pd.DataFrame([t.stack(dropna=False).values], columns=cols)\n",
    "\t# # [  row for col in t for row in t[col]  ]\n",
    "\treturn df\n"
   ]
  },
  {
   "cell_type": "code",
   "execution_count": 36,
   "metadata": {},
   "outputs": [
    {
     "name": "stdout",
     "output_type": "stream",
     "text": [
      "Market alle-deutschen-aktien done ... spleeping for 0.424 ms\n",
      "Market alle-nasdaq-aktien done ... spleeping for 0.611 ms\n",
      "Market alle-nyse-aktien done ... spleeping for 0.701 ms\n",
      "Market stoxx-europe-600 done ... spleeping for 1.183 ms\n",
      "Market nikkei-225 done ... spleeping for 1.081 ms\n"
     ]
    }
   ],
   "source": [
    "links = open('traderfox.txt', 'w')\n",
    "markets = ['alle-deutschen-aktien', 'alle-nasdaq-aktien', 'alle-nyse-aktien', 'stoxx-europe-600', 'nikkei-225']\n",
    "\n",
    "for market in markets:\n",
    "    stocks = requests.get(f'https://traderfox.de/aktien/{market}-bestandteile').content\n",
    "    soup = BeautifulSoup(stocks, \"html.parser\")\n",
    "    ahrefs = soup.select('#insert-stocks > tbody > tr > td > a')#insert-stocks > tbody > tr:nth-child(1) > td.name\n",
    "    site_links = [href.get('href') for href in ahrefs]\n",
    "    [links.write(f\"{link.replace('/aktien/', '')}\\n\") for link in site_links]\n",
    "    respect = random.randint(300,1400)/1000\n",
    "    print('Market', market, 'done ... spleeping for', respect, 'ms')\n",
    "    sleep(respect)\n",
    "\n",
    "links.close()"
   ]
  },
  {
   "cell_type": "code",
   "execution_count": 3,
   "metadata": {},
   "outputs": [],
   "source": [
    "with open('traderfox.txt', 'r') as f:\n",
    "    comp_links = f.readlines()"
   ]
  },
  {
   "cell_type": "code",
   "execution_count": 145,
   "metadata": {},
   "outputs": [
    {
     "data": {
      "text/html": [
       "<div>\n",
       "<style scoped>\n",
       "    .dataframe tbody tr th:only-of-type {\n",
       "        vertical-align: middle;\n",
       "    }\n",
       "\n",
       "    .dataframe tbody tr th {\n",
       "        vertical-align: top;\n",
       "    }\n",
       "\n",
       "    .dataframe thead th {\n",
       "        text-align: right;\n",
       "    }\n",
       "</style>\n",
       "<table border=\"1\" class=\"dataframe\">\n",
       "  <thead>\n",
       "    <tr style=\"text-align: right;\">\n",
       "      <th></th>\n",
       "      <th>2021_Dividende</th>\n",
       "      <th>2020_Dividende</th>\n",
       "      <th>2019_Dividende</th>\n",
       "      <th>2018_Dividende</th>\n",
       "      <th>2017_Dividende</th>\n",
       "      <th>2016_Dividende</th>\n",
       "      <th>2015_Dividende</th>\n",
       "      <th>2014_Dividende</th>\n",
       "      <th>2013_Dividende</th>\n",
       "      <th>2021_EBIT</th>\n",
       "      <th>...</th>\n",
       "      <th>2013_KUV</th>\n",
       "      <th>2021_Umsatz</th>\n",
       "      <th>2020_Umsatz</th>\n",
       "      <th>2019_Umsatz</th>\n",
       "      <th>2018_Umsatz</th>\n",
       "      <th>2017_Umsatz</th>\n",
       "      <th>2016_Umsatz</th>\n",
       "      <th>2015_Umsatz</th>\n",
       "      <th>2014_Umsatz</th>\n",
       "      <th>2013_Umsatz</th>\n",
       "    </tr>\n",
       "  </thead>\n",
       "  <tbody>\n",
       "    <tr>\n",
       "      <th>0</th>\n",
       "      <td>0.0053</td>\n",
       "      <td>0.0048</td>\n",
       "      <td>0.0048</td>\n",
       "      <td>0.0048</td>\n",
       "      <td>0.0045</td>\n",
       "      <td>0.0043</td>\n",
       "      <td>0.0039</td>\n",
       "      <td>0.0039</td>\n",
       "      <td>0.0039</td>\n",
       "      <td>17720000.0</td>\n",
       "      <td>...</td>\n",
       "      <td>3.29</td>\n",
       "      <td>266350000.0</td>\n",
       "      <td>246730000.0</td>\n",
       "      <td>236400000.0</td>\n",
       "      <td>209780000.0</td>\n",
       "      <td>189400000.0</td>\n",
       "      <td>174300000.0</td>\n",
       "      <td>152880000.0</td>\n",
       "      <td>186610000.0</td>\n",
       "      <td>126130000.0</td>\n",
       "    </tr>\n",
       "  </tbody>\n",
       "</table>\n",
       "<p>1 rows × 63 columns</p>\n",
       "</div>"
      ],
      "text/plain": [
       "   2021_Dividende  2020_Dividende  2019_Dividende  2018_Dividende  \\\n",
       "0          0.0053          0.0048          0.0048          0.0048   \n",
       "\n",
       "   2017_Dividende  2016_Dividende  2015_Dividende  2014_Dividende  \\\n",
       "0          0.0045          0.0043          0.0039          0.0039   \n",
       "\n",
       "   2013_Dividende   2021_EBIT  ...  2013_KUV  2021_Umsatz  2020_Umsatz  \\\n",
       "0          0.0039  17720000.0  ...      3.29  266350000.0  246730000.0   \n",
       "\n",
       "   2019_Umsatz  2018_Umsatz  2017_Umsatz  2016_Umsatz  2015_Umsatz  \\\n",
       "0  236400000.0  209780000.0  189400000.0  174300000.0  152880000.0   \n",
       "\n",
       "   2014_Umsatz  2013_Umsatz  \n",
       "0  186610000.0  126130000.0  \n",
       "\n",
       "[1 rows x 63 columns]"
      ]
     },
     "execution_count": 145,
     "metadata": {},
     "output_type": "execute_result"
    }
   ],
   "source": [
    "# get_fundamentals(str(soup_fund))"
   ]
  },
  {
   "cell_type": "code",
   "execution_count": 53,
   "metadata": {},
   "outputs": [
    {
     "name": "stderr",
     "output_type": "stream",
     "text": [
      "/tmp/ipykernel_364626/1129435569.py:7: DeprecationWarning: executable_path has been deprecated, please pass in a Service object\n",
      "  driver = webdriver.Chrome(ChromeDriverManager().install())\n",
      "100%|██████████| 2/2 [00:39<00:00, 19.90s/it]\n"
     ]
    },
    {
     "data": {
      "text/html": [
       "<div>\n",
       "<style scoped>\n",
       "    .dataframe tbody tr th:only-of-type {\n",
       "        vertical-align: middle;\n",
       "    }\n",
       "\n",
       "    .dataframe tbody tr th {\n",
       "        vertical-align: top;\n",
       "    }\n",
       "\n",
       "    .dataframe thead th {\n",
       "        text-align: right;\n",
       "    }\n",
       "</style>\n",
       "<table border=\"1\" class=\"dataframe\">\n",
       "  <thead>\n",
       "    <tr style=\"text-align: right;\">\n",
       "      <th></th>\n",
       "      <th>name</th>\n",
       "      <th>sector</th>\n",
       "    </tr>\n",
       "  </thead>\n",
       "  <tbody>\n",
       "    <tr>\n",
       "      <th>0</th>\n",
       "      <td>11-ag</td>\n",
       "      <td>Telekommunikation / Telekomdienstleister</td>\n",
       "    </tr>\n",
       "    <tr>\n",
       "      <th>0</th>\n",
       "      <td>11-88-0-solutions-ag</td>\n",
       "      <td>Telekommunikation / Telekomdienstleister</td>\n",
       "    </tr>\n",
       "  </tbody>\n",
       "</table>\n",
       "</div>"
      ],
      "text/plain": [
       "                   name                                    sector\n",
       "0                 11-ag  Telekommunikation / Telekomdienstleister\n",
       "0  11-88-0-solutions-ag  Telekommunikation / Telekomdienstleister"
      ]
     },
     "metadata": {},
     "output_type": "display_data"
    }
   ],
   "source": [
    "from selenium import webdriver\n",
    "from selenium.webdriver.chrome.options import Options\n",
    "from selenium.webdriver.common.by import By\n",
    "from webdriver_manager.chrome import ChromeDriverManager\n",
    "\n",
    "options = Options()\n",
    "driver = webdriver.Chrome(ChromeDriverManager().install())\n",
    "comps = []\n",
    "counter = 0\n",
    "options.add_argument('--disable-gpu')\n",
    "options.add_argument('user-agent=fake-useragent')\n",
    "driver.maximize_window()\n",
    "\n",
    "for comp_link in tqdm(comp_links):\n",
    "    link = comp_link.split('\\n')[0]\n",
    "    idx = link.find('-') + 1\n",
    "    company = pd.DataFrame({'name': [link[idx:]]})\n",
    "    driver.get(f'http://web.archive.org/web/20221209031735/https://traderfox.de/aktien/{link}')\n",
    "    source = driver.page_source.encode()\n",
    "    try:\n",
    "        company['sector'] = BeautifulSoup(source, 'html.parser').select('#stock-top-summary > div > table > tbody > tr > td')[2].get_text()\n",
    "    except:\n",
    "        company['sector'] = np.nan\n",
    "\n",
    "    comps.append(company)\n",
    "    sleep(random.randint(200,900)/1000) # RESPECT!\n",
    "    counter += 1\n",
    "\n",
    "    if counter % 10 == 0 or counter == len(comp_links):\n",
    "        pd.concat(comps,axis=0).to_csv('traderfox_sectors.csv', index=False)\n",
    "\n",
    "# driver.close()\n",
    "display(pd.concat(comps,axis=0))"
   ]
  },
  {
   "cell_type": "code",
   "execution_count": 55,
   "metadata": {},
   "outputs": [
    {
     "data": {
      "text/plain": [
       "[<td>2,25 Mrd. EUR (176,30 Mio. x 12,780€)</td>,\n",
       " <td>https://unternehmen.1und1.de/</td>,\n",
       " <td>Telekommunikation / Telekomdienstleister</td>,\n",
       " <td><a href=\"/web/20221209031735/https://traderfox.de/nachrichten/dpa-afx-pro/\">dpa-AFX Pro\n",
       " \t\t\t\t\t\t\t\t\t<span>5</span></a></td>,\n",
       " <td><a href=\"/web/20221209031735/https://traderfox.de/nachrichten/386713-11-ag-inh-on/quellen-newsbot\">Newsbot\n",
       " \t\t\t\t\t\t\t\t\t<span>-</span></a></td>,\n",
       " <td><a href=\"/web/20221209031735/https://traderfox.de/nachrichten/386713-11-ag-inh-on/quellen-dpa-afx-compact\">dpa-AFX\n",
       " \t\t\t\t\t\t\t\t\t<span>5</span></a></td>,\n",
       " <td><a href=\"/web/20221209031735/https://traderfox.de/nachrichten/386713-11-ag-inh-on/quellen-reuters\">Reuters\n",
       " \t\t\t\t\t\t\t\t\t<span>-</span></a></td>,\n",
       " <td>0,62</td>,\n",
       " <td>0,61</td>,\n",
       " <td>0,59</td>,\n",
       " <td>0,58</td>,\n",
       " <td>5,56</td>,\n",
       " <td>6,03</td>,\n",
       " <td>10,26</td>,\n",
       " <td>6,09</td>,\n",
       " <td>0,39%</td>,\n",
       " <td>0,39%</td>,\n",
       " <td>0,39%</td>,\n",
       " <td>0,39%</td>]"
      ]
     },
     "execution_count": 55,
     "metadata": {},
     "output_type": "execute_result"
    }
   ],
   "source": [
    "BeautifulSoup(requests.get('http://web.archive.org/web/20221209031735/https://traderfox.de/aktien/386713-11-ag').content, \"html.parser\").select('#stock-top-summary > div > table > tbody > tr > td')\n"
   ]
  },
  {
   "cell_type": "code",
   "execution_count": 44,
   "metadata": {},
   "outputs": [
    {
     "data": {
      "text/plain": [
       "'2079583-2g-energy-ag\\n'"
      ]
     },
     "execution_count": 44,
     "metadata": {},
     "output_type": "execute_result"
    }
   ],
   "source": [
    "comp_links[2]"
   ]
  },
  {
   "cell_type": "code",
   "execution_count": null,
   "metadata": {},
   "outputs": [],
   "source": [
    "companies = []\n",
    "counter = 0\n",
    "\n",
    "for comp_link in tqdm(comp_links):\n",
    "    link = comp_link.split('\\n')[0]\n",
    "    idx = link.find('-') + 1\n",
    "    company = pd.DataFrame({'name': [link[idx:]]})\n",
    "    soup = BeautifulSoup(requests.get(f'https://markets.traderfox.com/aktien/{link}').content, \"html.parser\")\n",
    "    # try:   \n",
    "    # company['sector'] = soup.select('#stock-top-summary > div > table > tbody > tr > td')[2].get_text()\n",
    "    # except:\n",
    "    #     company['sector'] = np.nan            # THANK YOU TRADERFOX!!! :(\n",
    "\n",
    "    try:\n",
    "        company['description'] = soup.select('#profile > div')[0].get_text()\n",
    "    except:\n",
    "        company['description'] = np.nan\n",
    "\n",
    "    try:\n",
    "        soup_fund = soup.select('#table-pd')[0]\n",
    "        company = pd.concat([company, get_fundamentals(str(soup_fund))],axis=1)\n",
    "    except:\n",
    "        pass\n",
    "        \n",
    "    companies.append(company)\n",
    "    sleep(random.randint(200,900)/1000) # RESPECT!\n",
    "    counter += 1\n",
    "\n",
    "    if counter % 10 == 0 or counter == len(comp_links):\n",
    "        pd.concat(companies,axis=0).to_csv('traderfox.csv', index=False)\n",
    "\n",
    "display(pd.concat(companies,axis=0))"
   ]
  },
  {
   "cell_type": "code",
   "execution_count": 4,
   "metadata": {},
   "outputs": [
    {
     "name": "stderr",
     "output_type": "stream",
     "text": [
      "  1%|          | 33/5419 [03:16<8:09:01,  5.45s/it] "
     ]
    }
   ],
   "source": [
    "# get sectors from cached site\n",
    "companies = []\n",
    "counter = 0\n",
    "shuffled = random.sample(comp_links, len(comp_links))\n",
    "\n",
    "for comp_link in tqdm(shuffled):\n",
    "    link = comp_link.split('\\n')[0]\n",
    "    idx = link.find('-') + 1\n",
    "    company = pd.DataFrame({'name': [link[idx:]]})\n",
    "    try:   \n",
    "        soup = BeautifulSoup(requests.get(f'http://web.archive.org/web/https://traderfox.de/aktien/{link}', timeout=4).content, \"html.parser\")\n",
    "        company['sector'] = soup.select('#stock-top-summary > div > table > tbody > tr > td')[2].get_text()\n",
    "    except:\n",
    "        company['sector'] = np.nan            # THANK YOU TRADERFOX!!! :(\n",
    "\n",
    "    # try:\n",
    "    #     company['description'] = soup.select('#profile > div')[0].get_text()\n",
    "    # except:\n",
    "    #     company['description'] = np.nan\n",
    "\n",
    "    # try:\n",
    "    #     soup_fund = soup.select('#table-pd')[0]\n",
    "    #     company = pd.concat([company, get_fundamentals(str(soup_fund))],axis=1)\n",
    "    # except:\n",
    "    #     pass\n",
    "        \n",
    "    companies.append(company)\n",
    "    sleep(random.randint(200,900)/1000) # RESPECT!\n",
    "    counter += 1\n",
    "\n",
    "    if counter % 10 == 0 or counter == len(comp_links):\n",
    "        pd.concat(companies,axis=0).to_csv('traderfox_sectors.csv', index=False)\n",
    "\n",
    "display(pd.concat(companies,axis=0))"
   ]
  }
 ],
 "metadata": {
  "kernelspec": {
   "display_name": "base",
   "language": "python",
   "name": "python3"
  },
  "language_info": {
   "codemirror_mode": {
    "name": "ipython",
    "version": 3
   },
   "file_extension": ".py",
   "mimetype": "text/x-python",
   "name": "python",
   "nbconvert_exporter": "python",
   "pygments_lexer": "ipython3",
   "version": "3.9.13 (main, Aug 25 2022, 23:26:10) \n[GCC 11.2.0]"
  },
  "orig_nbformat": 4,
  "vscode": {
   "interpreter": {
    "hash": "110a49fd1fc6ce11dd5772feb9d88a10bee43765f151468609dcac41899fc28c"
   }
  }
 },
 "nbformat": 4,
 "nbformat_minor": 2
}
