{
 "cells": [
  {
   "cell_type": "code",
   "execution_count": 1,
   "metadata": {},
   "outputs": [],
   "source": [
    "from bs4 import BeautifulSoup\n",
    "import requests\n",
    "import pandas as pd\n",
    "\n",
    "import random\n",
    "from time import sleep\n",
    "\n",
    "from tqdm import tqdm\n",
    "import numpy as np"
   ]
  },
  {
   "cell_type": "code",
   "execution_count": 3,
   "metadata": {},
   "outputs": [],
   "source": [
    "with open('traderfox.txt', 'r') as f:\n",
    "    comp_links = f.readlines()"
   ]
  },
  {
   "cell_type": "code",
   "execution_count": 4,
   "metadata": {},
   "outputs": [
    {
     "data": {
      "text/plain": [
       "'[ADNT | WKN A2AT0H | ISIN IE00BD845X29]'"
      ]
     },
     "execution_count": 4,
     "metadata": {},
     "output_type": "execute_result"
    }
   ],
   "source": [
    "BeautifulSoup(requests.get('https://charts.traderfox.com/7871117').content, 'html.parser').select('#chartForm > div.row > div.col-12.col-lg-8.col-xl-9.order-1.order-lg-12.col-print-12 > div > div.form-row.mb-3 > div.col-12.col-md-7.col-xl-8.pt-1.text-center.text-md-left.mb-1.mb-md-0 > div.color-grey-dark.fs-100.font-weight-light.mb-1 > span')[0].get_text()"
   ]
  },
  {
   "cell_type": "code",
   "execution_count": 5,
   "metadata": {},
   "outputs": [
    {
     "name": "stderr",
     "output_type": "stream",
     "text": [
      "100%|██████████| 5419/5419 [1:19:37<00:00,  1.13it/s]\n"
     ]
    },
    {
     "data": {
      "text/html": [
       "<div>\n",
       "<style scoped>\n",
       "    .dataframe tbody tr th:only-of-type {\n",
       "        vertical-align: middle;\n",
       "    }\n",
       "\n",
       "    .dataframe tbody tr th {\n",
       "        vertical-align: top;\n",
       "    }\n",
       "\n",
       "    .dataframe thead th {\n",
       "        text-align: right;\n",
       "    }\n",
       "</style>\n",
       "<table border=\"1\" class=\"dataframe\">\n",
       "  <thead>\n",
       "    <tr style=\"text-align: right;\">\n",
       "      <th></th>\n",
       "      <th>name</th>\n",
       "      <th>ticker</th>\n",
       "    </tr>\n",
       "  </thead>\n",
       "  <tbody>\n",
       "    <tr>\n",
       "      <th>0</th>\n",
       "      <td>11-ag</td>\n",
       "      <td>1U1</td>\n",
       "    </tr>\n",
       "    <tr>\n",
       "      <th>0</th>\n",
       "      <td>11-88-0-solutions-ag</td>\n",
       "      <td>TGT</td>\n",
       "    </tr>\n",
       "    <tr>\n",
       "      <th>0</th>\n",
       "      <td>2g-energy-ag</td>\n",
       "      <td>2GB</td>\n",
       "    </tr>\n",
       "    <tr>\n",
       "      <th>0</th>\n",
       "      <td>3u-holding-ag</td>\n",
       "      <td>UUU</td>\n",
       "    </tr>\n",
       "    <tr>\n",
       "      <th>0</th>\n",
       "      <td>7c-solarparken-ag</td>\n",
       "      <td>HRPK</td>\n",
       "    </tr>\n",
       "    <tr>\n",
       "      <th>...</th>\n",
       "      <td>...</td>\n",
       "      <td>...</td>\n",
       "    </tr>\n",
       "    <tr>\n",
       "      <th>0</th>\n",
       "      <td>yamaha-corp</td>\n",
       "      <td>YHA</td>\n",
       "    </tr>\n",
       "    <tr>\n",
       "      <th>0</th>\n",
       "      <td>yamaha-motor-co-ltd</td>\n",
       "      <td>YMA</td>\n",
       "    </tr>\n",
       "    <tr>\n",
       "      <th>0</th>\n",
       "      <td>yamato-holdings-co-ltd</td>\n",
       "      <td>YTT</td>\n",
       "    </tr>\n",
       "    <tr>\n",
       "      <th>0</th>\n",
       "      <td>yaskawa-electric-corp</td>\n",
       "      <td>YEC</td>\n",
       "    </tr>\n",
       "    <tr>\n",
       "      <th>0</th>\n",
       "      <td>yokogawa-electric-corp</td>\n",
       "      <td>WKN 856912</td>\n",
       "    </tr>\n",
       "  </tbody>\n",
       "</table>\n",
       "<p>5419 rows × 2 columns</p>\n",
       "</div>"
      ],
      "text/plain": [
       "                      name      ticker\n",
       "0                    11-ag         1U1\n",
       "0     11-88-0-solutions-ag         TGT\n",
       "0             2g-energy-ag         2GB\n",
       "0            3u-holding-ag         UUU\n",
       "0        7c-solarparken-ag        HRPK\n",
       "..                     ...         ...\n",
       "0              yamaha-corp         YHA\n",
       "0      yamaha-motor-co-ltd         YMA\n",
       "0   yamato-holdings-co-ltd         YTT\n",
       "0    yaskawa-electric-corp         YEC\n",
       "0   yokogawa-electric-corp  WKN 856912\n",
       "\n",
       "[5419 rows x 2 columns]"
      ]
     },
     "metadata": {},
     "output_type": "display_data"
    }
   ],
   "source": [
    "\n",
    "\n",
    "companies = []\n",
    "counter = 0\n",
    "# shuffled = random.sample(comp_links, len(comp_links))\n",
    "\n",
    "for comp_link in tqdm(comp_links):\n",
    "    link = comp_link.split('\\n')[0]\n",
    "    idx = link.find('-')\n",
    "    company = pd.DataFrame({'name': [link[idx+1:]]})\n",
    "    try:   \n",
    "        txt = BeautifulSoup(requests.get(f'https://charts.traderfox.com/{link[:idx]}').content, 'html.parser').select('#chartForm > div.row > div.col-12.col-lg-8.col-xl-9.order-1.order-lg-12.col-print-12 > div > div.form-row.mb-3 > div.col-12.col-md-7.col-xl-8.pt-1.text-center.text-md-left.mb-1.mb-md-0 > div.color-grey-dark.fs-100.font-weight-light.mb-1 > span')[0].get_text()\n",
    "        company['ticker'] = txt.split('|')[0].replace('[', '').strip()\n",
    "    except:\n",
    "        company['ticker'] = np.nan \n",
    "\n",
    "    companies.append(company)\n",
    "    sleep(random.randint(200,900)/1000) # RESPECT!\n",
    "    counter += 1\n",
    "\n",
    "    if counter % 10 == 0 or counter == len(comp_links):\n",
    "        pd.concat(companies,axis=0).to_csv('traderfox_ticker.csv', index=False)\n",
    "\n",
    "display(pd.concat(companies,axis=0))"
   ]
  }
 ],
 "metadata": {
  "kernelspec": {
   "display_name": "Python 3",
   "language": "python",
   "name": "python3"
  },
  "language_info": {
   "codemirror_mode": {
    "name": "ipython",
    "version": 3
   },
   "file_extension": ".py",
   "mimetype": "text/x-python",
   "name": "python",
   "nbconvert_exporter": "python",
   "pygments_lexer": "ipython3",
   "version": "3.10.6 (main, Nov 14 2022, 16:10:14) [GCC 11.3.0]"
  },
  "orig_nbformat": 4,
  "vscode": {
   "interpreter": {
    "hash": "e7370f93d1d0cde622a1f8e1c04877d8463912d04d973331ad4851f04de6915a"
   }
  }
 },
 "nbformat": 4,
 "nbformat_minor": 2
}
